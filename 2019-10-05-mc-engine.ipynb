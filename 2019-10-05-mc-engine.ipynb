{
 "cells": [
  {
   "cell_type": "code",
   "execution_count": 1,
   "metadata": {},
   "outputs": [],
   "source": [
    "from dataclasses import dataclass\n",
    "\n",
    "import numpy as np\n",
    "import matplotlib.pyplot as plt"
   ]
  },
  {
   "cell_type": "code",
   "execution_count": 2,
   "metadata": {},
   "outputs": [],
   "source": [
    "@dataclass\n",
    "class Configuration:\n",
    "    n_paths: int\n",
    "    n_steps: int"
   ]
  },
  {
   "cell_type": "code",
   "execution_count": 3,
   "metadata": {},
   "outputs": [],
   "source": [
    "@dataclass\n",
    "class EuropeanOption:\n",
    "    stock_price: float\n",
    "    strike_price: float\n",
    "    risk_free_rate: float\n",
    "    volatility: float\n",
    "    time_to_maturity: float\n",
    "        \n",
    "    def disc_fact(self):\n",
    "        return np.exp(-1.0 * self.risk_free_rate * self.time_to_maturity)\n",
    "    \n",
    "    def payoff(self, observations):\n",
    "        raise NotImplementedError\n",
    "\n",
    "    def pv(self, observations):\n",
    "        return self.disc_fact() * self.payoff(observations)\n",
    "    \n",
    "@dataclass\n",
    "class EuropeanCall(EuropeanOption):\n",
    "    def payoff(self, fixing):\n",
    "        return max(fixing - self.strike_price, 0)\n",
    "    \n",
    "@dataclass\n",
    "class EuropeanPut(EuropeanOption):\n",
    "    def payoff(self, fixing):\n",
    "        return max(self.strike_price - fixing, 0)\n",
    "    \n",
    "@dataclass\n",
    "class EuropeanCallDigitalCash(EuropeanOption):\n",
    "    def payoff(self, fixing):\n",
    "        return 1 if fixing > self.strike_price else 0\n",
    "    \n",
    "@dataclass\n",
    "class EuropeanPutDigitalCash(EuropeanOption):\n",
    "    def payoff(self, fixing):\n",
    "        return 1 if fixing < self.strike_price else 0"
   ]
  },
  {
   "cell_type": "code",
   "execution_count": 4,
   "metadata": {},
   "outputs": [],
   "source": [
    "class GBMModel:\n",
    "    def __init__(self, configuration):\n",
    "        self.configuration = configuration\n",
    "        \n",
    "    # simulate risk factors using GBM stochastic differential equation\n",
    "    def simulate(self, security):\n",
    "        prices = []\n",
    "        # for this example, we only are concerned with one time step as it’s an European option\n",
    "        dt = 1\n",
    "        for path in range(self.configuration.n_paths):\n",
    "            normal_random_number = np.random.normal(0, 1)           \n",
    "            drift = (security.risk_free_rate - 0.5 * (security.volatility ** 2)) * dt\n",
    "            diffusion = security.volatility * np.sqrt(dt) * normal_random_number\n",
    "            price = security.stock_price * np.exp(drift + diffusion)\n",
    "            prices.append(price)    \n",
    "        return prices"
   ]
  },
  {
   "cell_type": "code",
   "execution_count": 5,
   "metadata": {},
   "outputs": [],
   "source": [
    "class PayoffPricer:\n",
    "    def calculate_price(self, security, simulation_results):\n",
    "        pvs = 0\n",
    "        total_paths = len(simulation_results)\n",
    "        for simulation_result in simulation_results:\n",
    "            pvs += security.pv(simulation_result)\n",
    "        return pvs / total_paths"
   ]
  },
  {
   "cell_type": "code",
   "execution_count": 6,
   "metadata": {},
   "outputs": [],
   "source": [
    "class MonteCarloPricer:\n",
    "    def __init__(self, configuration, model):\n",
    "        \"\"\" Instantiate with a configuration and the model \"\"\"\n",
    "        self.configuration = configuration\n",
    "        self.model = model\n",
    "        \n",
    "    def price(self, security, payoff_pricer):\n",
    "        \"\"\" simulate trade and calculate price \"\"\"\n",
    "        simulation_results = self.model.simulate(security)\n",
    "        price = payoff_pricer.calculate_price(security, simulation_results)\n",
    "        return price"
   ]
  },
  {
   "cell_type": "code",
   "execution_count": 7,
   "metadata": {},
   "outputs": [
    {
     "name": "stdout",
     "output_type": "stream",
     "text": [
      "0.5326789654257794\n"
     ]
    }
   ],
   "source": [
    "configuration = Configuration(100000, 8)\n",
    "security = EuropeanCallDigitalCash(100, 100, 0.05, 0.2, 1)\n",
    "model = GBMModel(configuration)\n",
    "payoff_pricer = PayoffPricer()\n",
    "pricer = MonteCarloPricer(configuration, model)\n",
    "pv = pricer.price(security, payoff_pricer)\n",
    "print(pv)"
   ]
  },
  {
   "cell_type": "markdown",
   "metadata": {},
   "source": [
    "References:\n",
    "1. https://realpython.com/python-data-classes/#inheritance\n",
    "2. https://medium.com/fintechexplained/monte-carlo-simulation-engine-in-python-a1fa5043c613"
   ]
  }
 ],
 "metadata": {
  "kernelspec": {
   "display_name": "Python 3",
   "language": "python",
   "name": "python3"
  },
  "language_info": {
   "codemirror_mode": {
    "name": "ipython",
    "version": 3
   },
   "file_extension": ".py",
   "mimetype": "text/x-python",
   "name": "python",
   "nbconvert_exporter": "python",
   "pygments_lexer": "ipython3",
   "version": "3.7.3"
  }
 },
 "nbformat": 4,
 "nbformat_minor": 4
}
