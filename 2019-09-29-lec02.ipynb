{
 "cells": [
  {
   "cell_type": "code",
   "execution_count": 5,
   "metadata": {},
   "outputs": [],
   "source": [
    "import matplotlib.pyplot as plt\n",
    "import numpy             as np\n",
    "np.random.seed(123456789)\n",
    "from numpy.random import rand\n",
    "from numpy import linspace, cumsum, exp, sqrt\n",
    "from scipy.stats import norm\n",
    "from math import log"
   ]
  },
  {
   "cell_type": "code",
   "execution_count": 6,
   "metadata": {},
   "outputs": [],
   "source": [
    "#\n",
    "# Normal cumulative distribution function, with extension\n",
    "# for complex argument with small imaginary component\n",
    "#\n",
    "\n",
    "def norm_cdf(x):\n",
    "    if not isinstance(x, np.ndarray):\n",
    "        xr = x.real\n",
    "        xi = x.imag\n",
    "        if abs(xi) > 1.0e-10:\n",
    "            raise ValueError('imag(x) too large in norm_cdf(x)')\n",
    "\n",
    "        ncf = norm.cdf(xr)\n",
    "        if abs(xi) > 0:\n",
    "            ncf = ncf + 1.0j*xi*norm.pdf(xr)\n",
    "    else:\n",
    "        xr = np.real(x)\n",
    "        xi = np.imag(x)\n",
    "        if any(abs(xi) > 1.0e-10):\n",
    "            raise ValueError('imag(x) too large in norm_cdf(x)')\n",
    "\n",
    "        ncf = norm.cdf(xr)\n",
    "        if any(abs(xi) > 0):\n",
    "            ncf = ncf + 1.0j*xi*norm.pdf(xr)\n",
    "\n",
    "    return ncf\n",
    "\n",
    "# V = european_call(r,sigma,T,S,K,opt)\n",
    "#\n",
    "# Black-Scholes European call option solution\n",
    "# as defined in equation (3.17) on page 48 of \n",
    "# The Mathematics of Financial Derivatives\n",
    "# by Wilmott, Howison and Dewynne\n",
    "#\n",
    "# r     - interest rate\n",
    "# sigma - volatility\n",
    "# T     - time interval\n",
    "# S     - asset value(s)  (float or flattened numpy array)\n",
    "# K     - strike price(s) (float or flattened numpy array)\n",
    "# opt   - 'value', 'delta', 'gamma' or 'vega'\n",
    "# V     - option value(s) (float or flattened numpy array)\n",
    "#\n",
    "\n",
    "def european_call(r,sigma,T,S,K,opt):\n",
    "\n",
    "    S  = S + 1.0e-100     # avoids problems with S=0\n",
    "    K  = K + 1.0e-100     # avoids problems with K=0\n",
    "\n",
    "    d1 = ( log(S) - log(K) + (r+0.5*sigma**2)*T ) / (sigma*sqrt(T))\n",
    "    d2 = ( log(S) - log(K) + (r-0.5*sigma**2)*T ) / (sigma*sqrt(T))\n",
    "\n",
    "    if opt == 'value':\n",
    "        V = S*norm_cdf(d1) - exp(-r*T)*K*norm_cdf(d2)\n",
    "    elif opt == 'delta':\n",
    "        V = norm_cdf(d1)\n",
    "    elif opt == 'gamma':\n",
    "        V = exp(-0.5*d1**2) / (sigma*sqrt(2*pi*T)*S)\n",
    "    elif opt == 'vega':\n",
    "        V =             S*(exp(-0.5*d1**2)/sqrt(2*pi))*( sqrt(T)-d1/sigma) \\\n",
    "            - exp(-r*T)*K*(exp(-0.5*d2**2)/sqrt(2*pi))*(-sqrt(T)-d2/sigma)\n",
    "\n",
    "    else:\n",
    "        raise ValueError('invalid value for opt -- must be \"value\", \"delta\", \"gamma\", \"vega\"')\n",
    "\n",
    "    return V"
   ]
  },
  {
   "cell_type": "code",
   "execution_count": 3,
   "metadata": {},
   "outputs": [
    {
     "data": {
      "text/plain": [
       "Text(0.5, 0, '$U$')"
      ]
     },
     "execution_count": 3,
     "metadata": {},
     "output_type": "execute_result"
    },
    {
     "data": {
      "image/png": "[encoded data removed]",
      "text/plain": [
       "<Figure size 432x288 with 1 Axes>"
      ]
     },
     "metadata": {
      "needs_background": "light"
     },
     "output_type": "display_data"
    }
   ],
   "source": [
    "plt.rc('text', usetex=True)\n",
    "plt.rc('font', family='serif', size=16)\n",
    "\n",
    "plt.close(\"all\")\n",
    "plt.ion()\n",
    "\n",
    "r=0.05; sig=0.2; T=1.0; S0=110.0; K=100.0\n",
    "#\n",
    "# first figure\n",
    "#\n",
    "\n",
    "U1 = rand(1,50)         # uniform random variable\n",
    "Y1 = norm.ppf(U1)       # inverts Normal cum. fn.\n",
    "S1 = S0*exp((r-sig**2/2)*T + sig*sqrt(T)*Y1)\n",
    "F1 = exp(-r*T)*np.maximum(0.0,S1-K)\n",
    "\n",
    "N  = 10000\n",
    "U2 = (np.arange(1,N+1)-0.5)/N     # uniformly spaced values\n",
    "Y2 = norm.ppf(U2)       # inverts Normal cum. fn.\n",
    "S2 = S0*exp((r-sig**2/2.0)*T + sig*sqrt(T)*Y2)\n",
    "F2 = exp(-r*T)*np.maximum(0.0,S2-K)\n",
    "\n",
    "plt.figure()\n",
    "plt.plot(U1,F1,'rx',U2,F2,'b-')\n",
    "plt.title('Discounted payoff')\n",
    "plt.xlabel(r'$U$')"
   ]
  },
  {
   "cell_type": "code",
   "execution_count": 7,
   "metadata": {},
   "outputs": [
    {
     "name": "stderr",
     "output_type": "stream",
     "text": [
      "C:\\Users\\louis\\Anaconda3\\envs\\tfqf\\lib\\site-packages\\ipykernel_launcher.py:24: UserWarning: Creating legend with loc=\"best\" can be slow with large amounts of data.\n",
      "C:\\Users\\louis\\Anaconda3\\envs\\tfqf\\lib\\site-packages\\IPython\\core\\events.py:88: UserWarning: Creating legend with loc=\"best\" can be slow with large amounts of data.\n",
      "  func(*args, **kwargs)\n",
      "C:\\Users\\louis\\Anaconda3\\envs\\tfqf\\lib\\site-packages\\IPython\\core\\pylabtools.py:128: UserWarning: Creating legend with loc=\"best\" can be slow with large amounts of data.\n",
      "  fig.canvas.print_figure(bytes_io, **kw)\n"
     ]
    },
    {
     "data": {
      "image/png": "[encoded data removed]",
      "text/plain": [
       "<Figure size 432x288 with 1 Axes>"
      ]
     },
     "metadata": {
      "needs_background": "light"
     },
     "output_type": "display_data"
    }
   ],
   "source": [
    "#\n",
    "# second figure\n",
    "#\n",
    "\n",
    "N = np.arange(1, 1000000 + 1)\n",
    "U = rand(1,max(N))    # uniform random variable\n",
    "Y = norm.ppf(U)        # inverts Normal cum. fn.\n",
    "S = S0*exp((r-sig**2/2.0)*T + sig*sqrt(T)*Y)\n",
    "F = exp(-r*T)*np.maximum(0.0,S-K)\n",
    "\n",
    "sum1 = cumsum(F)      # cumulative summation of\n",
    "sum2 = cumsum(F**2)   # payoff and its square\n",
    "val = sum1/N\n",
    "rms = sqrt(sum2/N - val**2)\n",
    "\n",
    "err = european_call(r,sig,T,S0,K,'value') - val\n",
    "\n",
    "fig = plt.figure()\n",
    "plt.plot(N, err, N, err - 3.0*rms/sqrt(N), N, err+3*rms/sqrt(N))\n",
    "plt.ticklabel_format(style='sci', axis='x', scilimits=(0,0))\n",
    "plt.axis([0, len(N), -1, 1])\n",
    "plt.xlabel(r'$N$'); plt.ylabel('Error')\n",
    "plt.legend(('MC error', 'lower bound', 'upper bound'))\n",
    "fig.tight_layout()"
   ]
  },
  {
   "cell_type": "code",
   "execution_count": null,
   "metadata": {},
   "outputs": [],
   "source": []
  }
 ],
 "metadata": {
  "kernelspec": {
   "display_name": "Python 3",
   "language": "python",
   "name": "python3"
  },
  "language_info": {
   "codemirror_mode": {
    "name": "ipython",
    "version": 3
   },
   "file_extension": ".py",
   "mimetype": "text/x-python",
   "name": "python",
   "nbconvert_exporter": "python",
   "pygments_lexer": "ipython3",
   "version": "3.7.3"
  }
 },
 "nbformat": 4,
 "nbformat_minor": 4
}
