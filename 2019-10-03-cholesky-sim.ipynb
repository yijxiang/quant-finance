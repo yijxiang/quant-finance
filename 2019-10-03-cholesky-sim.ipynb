{
 "cells": [
  {
   "cell_type": "code",
   "execution_count": 305,
   "metadata": {},
   "outputs": [],
   "source": [
    "%matplotlib inline\n",
    "import matplotlib.pyplot as plt\n",
    "\n",
    "import numpy as np\n",
    "import pandas as pd"
   ]
  },
  {
   "cell_type": "code",
   "execution_count": 369,
   "metadata": {},
   "outputs": [
    {
     "data": {
      "text/html": [
       "<div>\n",
       "<style scoped>\n",
       "    .dataframe tbody tr th:only-of-type {\n",
       "        vertical-align: middle;\n",
       "    }\n",
       "\n",
       "    .dataframe tbody tr th {\n",
       "        vertical-align: top;\n",
       "    }\n",
       "\n",
       "    .dataframe thead th {\n",
       "        text-align: right;\n",
       "    }\n",
       "</style>\n",
       "<table border=\"1\" class=\"dataframe\">\n",
       "  <thead>\n",
       "    <tr style=\"text-align: right;\">\n",
       "      <th></th>\n",
       "      <th>0</th>\n",
       "      <th>1</th>\n",
       "      <th>2</th>\n",
       "      <th>3</th>\n",
       "    </tr>\n",
       "  </thead>\n",
       "  <tbody>\n",
       "    <tr>\n",
       "      <td>0</td>\n",
       "      <td>100.000000</td>\n",
       "      <td>100.000000</td>\n",
       "      <td>100.000000</td>\n",
       "      <td>100.000000</td>\n",
       "    </tr>\n",
       "    <tr>\n",
       "      <td>1</td>\n",
       "      <td>100.402868</td>\n",
       "      <td>101.985314</td>\n",
       "      <td>104.085510</td>\n",
       "      <td>107.158334</td>\n",
       "    </tr>\n",
       "    <tr>\n",
       "      <td>2</td>\n",
       "      <td>100.804736</td>\n",
       "      <td>102.914373</td>\n",
       "      <td>106.090981</td>\n",
       "      <td>109.152139</td>\n",
       "    </tr>\n",
       "    <tr>\n",
       "      <td>3</td>\n",
       "      <td>101.145685</td>\n",
       "      <td>104.066621</td>\n",
       "      <td>110.112712</td>\n",
       "      <td>106.752339</td>\n",
       "    </tr>\n",
       "    <tr>\n",
       "      <td>4</td>\n",
       "      <td>101.432141</td>\n",
       "      <td>105.636454</td>\n",
       "      <td>111.245058</td>\n",
       "      <td>107.098096</td>\n",
       "    </tr>\n",
       "    <tr>\n",
       "      <td>5</td>\n",
       "      <td>101.902155</td>\n",
       "      <td>107.252644</td>\n",
       "      <td>116.233009</td>\n",
       "      <td>111.501023</td>\n",
       "    </tr>\n",
       "  </tbody>\n",
       "</table>\n",
       "</div>"
      ],
      "text/plain": [
       "            0           1           2           3\n",
       "0  100.000000  100.000000  100.000000  100.000000\n",
       "1  100.402868  101.985314  104.085510  107.158334\n",
       "2  100.804736  102.914373  106.090981  109.152139\n",
       "3  101.145685  104.066621  110.112712  106.752339\n",
       "4  101.432141  105.636454  111.245058  107.098096\n",
       "5  101.902155  107.252644  116.233009  111.501023"
      ]
     },
     "metadata": {},
     "output_type": "display_data"
    },
    {
     "data": {
      "text/plain": [
       "<Figure size 864x576 with 0 Axes>"
      ]
     },
     "metadata": {},
     "output_type": "display_data"
    },
    {
     "data": {
      "image/png": "[encoded data removed]",
      "text/plain": [
       "<Figure size 432x288 with 1 Axes>"
      ]
     },
     "metadata": {
      "needs_background": "light"
     },
     "output_type": "display_data"
    }
   ],
   "source": [
    "S0 = [\n",
    "    [100],\n",
    "    [100],\n",
    "    [100],\n",
    "    [100]\n",
    "]\n",
    "\n",
    "T = 1\n",
    "dt = 0.2\n",
    "n_time_steps = T / dt\n",
    "n_assets = len(S0)\n",
    "\n",
    "mu = np.matrix([\n",
    "    [0.02], \n",
    "    [0.07], \n",
    "    [0.15], \n",
    "    [0.20],\n",
    "])\n",
    "\n",
    "sigma = np.diag([\n",
    "    0.05, \n",
    "    0.12, \n",
    "    0.17, \n",
    "    0.25,\n",
    "])\n",
    "\n",
    "correlation_matrix = np.matrix([\n",
    "    [1.00, 0.80, 0.30, 0.30],\n",
    "    [0.80, 1.00, 0.60, 0.60],\n",
    "    [0.30, 0.60, 1.00, 0.60],\n",
    "    [0.30, 0.60, 0.60, 1.00],\n",
    "])\n",
    "\n",
    "covariance_matrix = sigma @ correlation_matrix @ sigma\n",
    "\n",
    "L = np.linalg.cholesky(covariance_matrix)\n",
    "\n",
    "plt.figure(figsize=(12, 8))\n",
    "\n",
    "paths = [[s[0] for s in S0]]\n",
    "for t in range(int(n_time_steps)):\n",
    "    X = np.transpose(L @ np.random.normal(0, 1, n_assets))\n",
    "    returns = np.diag(np.exp((mu - 0.5 * sigma ** 2) * dt + sigma * (np.sqrt(dt) * X)))\n",
    "    paths = np.concatenate((paths, [np.array(paths[-1]) * returns]), axis=0)\n",
    "    \n",
    "df = pd.DataFrame(paths)\n",
    "display(df)\n",
    "_ = df.plot();"
   ]
  },
  {
   "cell_type": "code",
   "execution_count": 353,
   "metadata": {},
   "outputs": [
    {
     "data": {
      "text/plain": [
       "matrix([[-0.10071971],\n",
       "        [-0.15045036],\n",
       "        [-0.06862439],\n",
       "        [-0.01989806]])"
      ]
     },
     "execution_count": 353,
     "metadata": {},
     "output_type": "execute_result"
    }
   ],
   "source": [
    "X"
   ]
  },
  {
   "cell_type": "code",
   "execution_count": null,
   "metadata": {},
   "outputs": [],
   "source": []
  }
 ],
 "metadata": {
  "kernelspec": {
   "display_name": "Python 3",
   "language": "python",
   "name": "python3"
  },
  "language_info": {
   "codemirror_mode": {
    "name": "ipython",
    "version": 3
   },
   "file_extension": ".py",
   "mimetype": "text/x-python",
   "name": "python",
   "nbconvert_exporter": "python",
   "pygments_lexer": "ipython3",
   "version": "3.7.3"
  }
 },
 "nbformat": 4,
 "nbformat_minor": 4
}
